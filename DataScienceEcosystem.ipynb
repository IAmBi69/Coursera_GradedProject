{
 "cells": [
  {
   "cell_type": "markdown",
   "metadata": {},
   "source": [
    "## Data Science Tools and Ecosystem"
   ]
  },
  {
   "cell_type": "markdown",
   "metadata": {},
   "source": [
    "In this notebook, Data Science Tools and Ecosystem are summarized."
   ]
  },
  {
   "cell_type": "markdown",
   "metadata": {},
   "source": [
    "## Data Science Tools and Ecosystem\n",
    "\n",
    "Some of the popular languages that Data Scientists use are:\n",
    "\n",
    "1. Python: A versatile and widely used language, offering extensive libraries like NumPy, Pandas, Matplotlib, and Scikit-learn for data manipulation, analysis, and visualization. \n",
    "2. R: A language specifically designed for statistical computing and graphics, with powerful packages like tidyverse for data wrangling and ggplot2 for creating compelling visualizations.\n",
    "3. SQL: A structured query language essential for interacting with relational databases, allowing data scientists to extract and manipulate data for analysis.\n",
    "\n",
    "**Note:** This list includes just a few examples, and the choice of language often depends on the specific problem and available tools. \n"
   ]
  },
  {
   "cell_type": "markdown",
   "metadata": {},
   "source": [
    "## Data Science Libraries\n",
    "\n",
    "Some of the commonly used libraries used by Data Scientists include:\n",
    "\n",
    "1. **NumPy:** A fundamental library for numerical computing in Python, providing efficient data structures like arrays and matrices for mathematical operations.\n",
    "2. **Pandas:** A powerful library for data manipulation and analysis, offering functionalities for data loading, cleaning, transformation, and exploration.\n",
    "3. **Matplotlib:** A versatile library for creating static, animated, and interactive visualizations in Python, enabling data scientists to communicate insights effectively.\n",
    "\n",
    "**Note:** This is not an exhaustive list, and there are many other specialized libraries available for various data science tasks.\n"
   ]
  },
  {
   "cell_type": "markdown",
   "metadata": {},
   "source": [
    "| Data Science Tools   |\n",
    "|----------------------|\n",
    "| Jupyter Notebook     |\n",
    "| RStudio              |\n",
    "| Apache Zeppelin      |\n"
   ]
  },
  {
   "cell_type": "markdown",
   "metadata": {},
   "source": []
  },
  {
   "cell_type": "markdown",
   "metadata": {},
   "source": [
    "### Examples of Arithmetic Expressions in Python\n",
    "\n",
    "Arithmetic expressions are fundamental in programming and are used to perform mathematical operations. Here are a few examples of evaluating arithmetic expressions in Python:\n",
    "\n",
    "1. Addition:\n",
    "```python\n",
    "result = 10 + 5\n",
    "print(\"10 + 5 =\", result)  # Output: 10 + 5 = 15\n"
   ]
  },
  {
   "cell_type": "code",
   "execution_count": 1,
   "metadata": {},
   "outputs": [
    {
     "name": "stdout",
     "output_type": "stream",
     "text": [
      "17\n"
     ]
    }
   ],
   "source": [
    "# This is a simple arithmetic expression to multiply then add integers.\n",
    "result = (3 * 4) + 5\n",
    "print(result)  # Output should be 17"
   ]
  },
  {
   "cell_type": "code",
   "execution_count": 2,
   "metadata": {},
   "outputs": [
    {
     "name": "stdout",
     "output_type": "stream",
     "text": [
      "3.3333333333333335\n"
     ]
    }
   ],
   "source": [
    "# This will convert 200 minutes to hours by dividing by 60.\n",
    "minutes = 200\n",
    "hours = minutes / 60\n",
    "print(hours)  # Output should be 3.3333333333333335"
   ]
  },
  {
   "cell_type": "markdown",
   "metadata": {},
   "source": [
    "**Objectives:**\n",
    "\n",
    "- List popular languages for Data Science.\n",
    "- Introduce arithmetic expressions in Python.\n",
    "- Demonstrate basic arithmetic operations such as addition, subtraction, multiplication, division, exponentiation, and modulo.\n",
    "- Convert minutes to hours using Python.\n"
   ]
  },
  {
   "cell_type": "markdown",
   "metadata": {},
   "source": [
    "## Author\n",
    "\n",
    "Sohame Mukherjee\n"
   ]
  }
 ],
 "metadata": {
  "kernelspec": {
   "display_name": "Python 3",
   "language": "python",
   "name": "python3"
  },
  "language_info": {
   "codemirror_mode": {
    "name": "ipython",
    "version": 3
   },
   "file_extension": ".py",
   "mimetype": "text/x-python",
   "name": "python",
   "nbconvert_exporter": "python",
   "pygments_lexer": "ipython3",
   "version": "3.11.5"
  }
 },
 "nbformat": 4,
 "nbformat_minor": 2
}
